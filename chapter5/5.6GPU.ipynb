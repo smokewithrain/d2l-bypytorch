{
 "cells": [
  {
   "cell_type": "code",
   "execution_count": 2,
   "id": "d9538595",
   "metadata": {},
   "outputs": [
    {
     "data": {
      "text/plain": [
       "True"
      ]
     },
     "execution_count": 2,
     "metadata": {},
     "output_type": "execute_result"
    }
   ],
   "source": [
    "import torch\n",
    "from torch import nn\n",
    "torch.xpu.is_available()"
   ]
  },
  {
   "cell_type": "code",
   "execution_count": 3,
   "id": "69eacbf3",
   "metadata": {},
   "outputs": [
    {
     "data": {
      "text/plain": [
       "(device(type='cpu'), device(type='xpu'), device(type='xpu', index=1))"
      ]
     },
     "execution_count": 3,
     "metadata": {},
     "output_type": "execute_result"
    }
   ],
   "source": [
    "torch.device('cpu'), torch.device('xpu'), torch.device('xpu:1')"
   ]
  },
  {
   "cell_type": "code",
   "execution_count": null,
   "id": "c73b78d0",
   "metadata": {},
   "outputs": [
    {
     "data": {
      "text/plain": [
       "1"
      ]
     },
     "execution_count": 4,
     "metadata": {},
     "output_type": "execute_result"
    }
   ],
   "source": [
    "torch.xpu.device_count()   # 查询可用GPU的数量"
   ]
  },
  {
   "cell_type": "code",
   "execution_count": 5,
   "id": "f8a5b6aa",
   "metadata": {},
   "outputs": [
    {
     "data": {
      "text/plain": [
       "(device(type='xpu', index=0),\n",
       " device(type='cpu'),\n",
       " [device(type='xpu', index=0)])"
      ]
     },
     "execution_count": 5,
     "metadata": {},
     "output_type": "execute_result"
    }
   ],
   "source": [
    "def try_gpu(i=0):\n",
    "    \"\"\"如果存在,则返回gpu(i),否则返回cpu()\"\"\"\n",
    "    if torch.xpu.device_count() >= i+1:\n",
    "        return torch.device(f'xpu:{i}')\n",
    "    return torch.device('cpu')\n",
    "\n",
    "def try_all_gpus():\n",
    "    \"\"\"返回所有可用的GPU,如果没有GPU,则返回[cpu(),]\"\"\"\n",
    "    devices = [torch.device(f'xpu:{i}') for i in range(torch.xpu.device_count())]\n",
    "    return devices if devices else [torch.device('cpu')]\n",
    "\n",
    "try_gpu(), try_gpu(10), try_all_gpus()"
   ]
  },
  {
   "cell_type": "code",
   "execution_count": null,
   "id": "847df3ad",
   "metadata": {},
   "outputs": [
    {
     "data": {
      "text/plain": [
       "device(type='cpu')"
      ]
     },
     "execution_count": 6,
     "metadata": {},
     "output_type": "execute_result"
    }
   ],
   "source": [
    "x = torch.tensor([1, 2, 3])   # 默认张量是在cpu上创建的\n",
    "x.device"
   ]
  },
  {
   "cell_type": "code",
   "execution_count": 7,
   "id": "80348881",
   "metadata": {},
   "outputs": [
    {
     "data": {
      "text/plain": [
       "tensor([[1., 1., 1.],\n",
       "        [1., 1., 1.]], device='xpu:0')"
      ]
     },
     "execution_count": 7,
     "metadata": {},
     "output_type": "execute_result"
    }
   ],
   "source": [
    "X = torch.ones(2, 3, device=try_gpu())\n",
    "X"
   ]
  },
  {
   "cell_type": "code",
   "execution_count": 8,
   "id": "b86c1d4b",
   "metadata": {},
   "outputs": [],
   "source": [
    "net = nn.Sequential(nn.Linear(3, 1))\n",
    "net = net.to(device=try_gpu())"
   ]
  },
  {
   "cell_type": "code",
   "execution_count": 9,
   "id": "0d20b35d",
   "metadata": {},
   "outputs": [
    {
     "data": {
      "text/plain": [
       "tensor([[-0.2054],\n",
       "        [-0.2054]], device='xpu:0', grad_fn=<AddmmBackward0>)"
      ]
     },
     "execution_count": 9,
     "metadata": {},
     "output_type": "execute_result"
    }
   ],
   "source": [
    "net(X)"
   ]
  },
  {
   "cell_type": "code",
   "execution_count": 10,
   "id": "ace4c5cb",
   "metadata": {},
   "outputs": [
    {
     "data": {
      "text/plain": [
       "device(type='xpu', index=0)"
      ]
     },
     "execution_count": 10,
     "metadata": {},
     "output_type": "execute_result"
    }
   ],
   "source": [
    "net[0].weight.data.device"
   ]
  },
  {
   "cell_type": "markdown",
   "id": "dfcd47e0",
   "metadata": {},
   "source": [
    "练习"
   ]
  },
  {
   "cell_type": "markdown",
   "id": "b9ee79e6",
   "metadata": {},
   "source": [
    "进行大矩阵的乘法，查看CPU和GPU的速度差异。再尝试计算量很小的任务。"
   ]
  },
  {
   "cell_type": "code",
   "execution_count": 13,
   "id": "d39a7b8f",
   "metadata": {},
   "outputs": [
    {
     "name": "stdout",
     "output_type": "stream",
     "text": [
      "cpu time cost: 2931.16 ms\n",
      "gpu time cost: 41.17 ms\n",
      "cpu time cost: 0.0 ms\n",
      "gpu time cost: 0.0 ms\n"
     ]
    }
   ],
   "source": [
    "import time\n",
    "# 计算量较大的任务\n",
    "X = torch.randn((10000, 10000))\n",
    "Y = X.xpu(0)\n",
    "time_start = time.time()\n",
    "Z = torch.mm(X, X)\n",
    "time_end = time.time()\n",
    "print(f'cpu time cost: {round((time_end-time_start)*1000, 2)} ms')\n",
    "\n",
    "time_start = time.time()\n",
    "Z = torch.mm(Y, Y)\n",
    "time_end = time.time()\n",
    "print(f'gpu time cost: {round((time_end-time_start)*1000, 2)} ms')\n",
    "\n",
    "# 计算量较小的任务\n",
    "X = torch.randn((100, 100))\n",
    "Y = X.xpu(0)\n",
    "time_start = time.time()\n",
    "Z = torch.mm(X, X)\n",
    "time_end = time.time()\n",
    "print(f'cpu time cost: {round((time_end-time_start)*1000, 2)} ms')\n",
    "\n",
    "time_start = time.time()\n",
    "Z = torch.mm(Y, Y)\n",
    "time_end = time.time()\n",
    "print(f'gpu time cost: {round((time_end-time_start)*1000, 2)} ms')"
   ]
  },
  {
   "cell_type": "markdown",
   "id": "a16146fc",
   "metadata": {},
   "source": [
    "计算1000个100*100矩阵的矩阵乘法，并输出矩阵的弗罗贝尼乌斯范数 \\\n",
    "对比每次矩阵乘法，都输出范数结果的耗时 与 1000次矩阵乘法之后，只输出最终范数结果的耗时\n"
   ]
  },
  {
   "cell_type": "code",
   "execution_count": 21,
   "id": "85850bc1",
   "metadata": {},
   "outputs": [
    {
     "name": "stdout",
     "output_type": "stream",
     "text": [
      "gpu time cost: 93 ms\n",
      "gpu time cost: 34 ms\n"
     ]
    }
   ],
   "source": [
    "time_start = time.time()\n",
    "for i in range(1000):\n",
    "    Y = torch.mm(Y, Y)\n",
    "    Z = torch.norm(Y)\n",
    "time_end = time.time()\n",
    "print(f'gpu time cost: {round((time_end-time_start)*1000)} ms')\n",
    "\n",
    "time_start = time.time()\n",
    "for i in range(1000):\n",
    "    Y = torch.mm(Y, Y)\n",
    "Z = torch.norm(Y)\n",
    "time_end = time.time()\n",
    "print(f'gpu time cost: {round((time_end-time_start)*1000)} ms')\n"
   ]
  }
 ],
 "metadata": {
  "kernelspec": {
   "display_name": "d2l",
   "language": "python",
   "name": "python3"
  },
  "language_info": {
   "codemirror_mode": {
    "name": "ipython",
    "version": 3
   },
   "file_extension": ".py",
   "mimetype": "text/x-python",
   "name": "python",
   "nbconvert_exporter": "python",
   "pygments_lexer": "ipython3",
   "version": "3.9.21"
  }
 },
 "nbformat": 4,
 "nbformat_minor": 5
}
