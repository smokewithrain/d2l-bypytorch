{
 "cells": [
  {
   "cell_type": "code",
   "execution_count": 27,
   "id": "50620cb6",
   "metadata": {},
   "outputs": [],
   "source": [
    "import collections \n",
    "import re \n",
    "from d2l import torch as d2l"
   ]
  },
  {
   "cell_type": "markdown",
   "id": "98978125",
   "metadata": {},
   "source": [
    "读取数据集"
   ]
  },
  {
   "cell_type": "code",
   "execution_count": 28,
   "id": "de416530",
   "metadata": {},
   "outputs": [
    {
     "name": "stdout",
     "output_type": "stream",
     "text": [
      "文本总行数: 3221\n",
      "the time machine by h g wells\n",
      "twinkled and his usually pale face was flushed and animated the\n"
     ]
    }
   ],
   "source": [
    "d2l.DATA_HUB['time_machine'] = (d2l.DATA_URL + 'timemachine.txt',\n",
    "                                '090b5e7e70c295757f55df93cb0a180b9691891a')\n",
    "\n",
    "def read_time_machine():\n",
    "    \"\"\"\n",
    "    将时间机器数据集加载到文本行的列表中\n",
    "\n",
    "    Return\n",
    "    -------\n",
    "        文本行列表, 每个元素是一句话, 这句话中非英文字符替换为空格, 所有字符转换为小写\n",
    "    \"\"\"\n",
    "    with open(d2l.download('time_machine'), 'r') as f:\n",
    "        lines = f.readlines()\n",
    "    # re.sub('[^A-Za-z]+', ' ', line)将非英文字符替换为空格\n",
    "    return [re.sub('[^A-Za-z]+', ' ', line).strip().lower() for line in lines]  # 全部转换为小写\n",
    "\n",
    "lines = read_time_machine()\n",
    "print(f\"文本总行数: {len(lines)}\")\n",
    "print(lines[0])\n",
    "print(lines[10])"
   ]
  },
  {
   "cell_type": "markdown",
   "id": "464d2853",
   "metadata": {},
   "source": [
    "词元化"
   ]
  },
  {
   "cell_type": "code",
   "execution_count": 29,
   "id": "ba4227cf",
   "metadata": {},
   "outputs": [
    {
     "name": "stdout",
     "output_type": "stream",
     "text": [
      "['the', 'time', 'machine', 'by', 'h', 'g', 'wells']\n",
      "[]\n",
      "[]\n",
      "[]\n",
      "[]\n",
      "['i']\n",
      "[]\n",
      "[]\n",
      "['the', 'time', 'traveller', 'for', 'so', 'it', 'will', 'be', 'convenient', 'to', 'speak', 'of', 'him']\n",
      "['was', 'expounding', 'a', 'recondite', 'matter', 'to', 'us', 'his', 'grey', 'eyes', 'shone', 'and']\n",
      "['twinkled', 'and', 'his', 'usually', 'pale', 'face', 'was', 'flushed', 'and', 'animated', 'the']\n"
     ]
    }
   ],
   "source": [
    "def tokenize(lines, token='word'):\n",
    "    \"\"\"\n",
    "    将文本行拆分为单词或字符词元\n",
    "    \n",
    "    Parameters\n",
    "    -----------\n",
    "        lines : 文本行列表, 每个元素是一句话\n",
    "        token : 'word' 文本行拆分为单词 'char' 文本行拆分为字符\n",
    "    \"\"\"\n",
    "    if token == 'word':\n",
    "        return [line.split() for line in lines]\n",
    "    elif token == 'char':\n",
    "        return [list(line) for line in lines] # list() 将字符串转换为字符列表\n",
    "    else:\n",
    "        print('错误: 未知词元类型: ' + token)\n",
    "\n",
    "tokens = tokenize(lines)\n",
    "for i in range(11):\n",
    "    print(tokens[i])"
   ]
  },
  {
   "cell_type": "markdown",
   "id": "5e3565a2",
   "metadata": {},
   "source": [
    "词表"
   ]
  },
  {
   "cell_type": "code",
   "execution_count": 30,
   "id": "d187f989",
   "metadata": {},
   "outputs": [],
   "source": [
    "class Vocab:\n",
    "    \"\"\"文本词表\"\"\"\n",
    "    def __init__(self, tokens=None, min_freq=0, reserved_tokens=None):\n",
    "        \"\"\" \n",
    "        Parameters\n",
    "        -----------\n",
    "            tokens : 文本列表， 已拆解处理为单词\n",
    "            min_freq : 出现次数<min_freq的单词, 直接移除(降低复杂度)\n",
    "            reserved_tokens : 保留词元(特殊用途), 例如填充词元'<pad>', 序列开始词元'<bos>', 序列结束词元'<eos>'\n",
    "        \"\"\"\n",
    "        if tokens is None:\n",
    "            tokens = []\n",
    "        if reserved_tokens is None:\n",
    "            reserved_tokens = []\n",
    "        # 按出现频率排序\n",
    "        counter = count_corpus(tokens)\n",
    "        # items() (key, value)\n",
    "        self._token_freqs = sorted(counter.items(), key=lambda x: x[1], reverse=True) # 所有单词，按出现频率降序排列\n",
    "        # 未知词元的索引为0\n",
    "        self.idx_to_token = ['<unk>'] + reserved_tokens # 词元列表，先加入未知词元+保留词元\n",
    "        self.token_to_idx = {token: idx\n",
    "                             for idx, token in enumerate(self.idx_to_token)} # 词元 : 编号\n",
    "        for token, freq in self._token_freqs:\n",
    "            if freq < min_freq:\n",
    "                break \n",
    "            if token not in self.token_to_idx:\n",
    "                self.idx_to_token.append(token)\n",
    "                self.token_to_idx[token] = len(self.idx_to_token) - 1   # 编号越大，出现频率越低 \n",
    "        \n",
    "    def __len__(self):\n",
    "        return len(self.idx_to_token)\n",
    "\n",
    "    def __getitem__(self, tokens):\n",
    "        \"\"\"从Vocab类中取出词元对应的编号\"\"\"\n",
    "        if not isinstance(tokens, (list, tuple)): # 当输入是单个词元时\n",
    "            return self.token_to_idx.get(tokens, self.unk)   # 返回词元对应的编号\n",
    "        return [self.__getitem__(token) for token in tokens] # 递归调用\n",
    "    \n",
    "    def to_tokens(self, indices):\n",
    "        \"\"\"编号转换为词元\"\"\"\n",
    "        if not isinstance(indices, (list, tuple)):             # 单个编号\n",
    "            return self.idx_to_token[indices]\n",
    "        return [self.idx_to_token[index] for index in indices] # 多个编号\n",
    "    \n",
    "    @property  # 将类方法转换为类属性，可以用self.unk调用该方法\n",
    "    def unk(self):  # 未知词元的索引为0\n",
    "        return 0\n",
    "    \n",
    "    @property\n",
    "    def token_freqs(self):\n",
    "        return self._token_freqs\n",
    "    \n",
    "def count_corpus(tokens):\n",
    "    \"\"\"\n",
    "    统计词元出现的频率\n",
    "\n",
    "    Parameter\n",
    "    ----------\n",
    "        tokens : 文本列表, 已拆解处理为单词\n",
    "    \n",
    "    Return\n",
    "    -------\n",
    "        collections.Counter(tokens) 键为元素，值为对应元素的计数\n",
    "    \"\"\"\n",
    "    # 这里的tokens是一维列表或二维列表\n",
    "    if len(tokens) == 0 or isinstance(tokens[0], list):\n",
    "        # 将词元列表展平成一个列表\n",
    "        tokens = [token for line in tokens for token in line]\n",
    "    # collections.Counter 容器类，用于高效统计可哈希对象的出现次数\n",
    "    # 键为元素，值为对应元素的计数\n",
    "    return collections.Counter(tokens)"
   ]
  },
  {
   "cell_type": "code",
   "execution_count": 31,
   "id": "0a3acbae",
   "metadata": {},
   "outputs": [
    {
     "name": "stdout",
     "output_type": "stream",
     "text": [
      "[('<unk>', 0), ('the', 1), ('i', 2), ('and', 3), ('of', 4), ('a', 5), ('to', 6), ('was', 7), ('in', 8), ('that', 9)]\n"
     ]
    }
   ],
   "source": [
    "vocab = Vocab(tokens)\n",
    "print(list(vocab.token_to_idx.items())[:10])"
   ]
  },
  {
   "cell_type": "code",
   "execution_count": 32,
   "id": "7e9ef138",
   "metadata": {},
   "outputs": [
    {
     "name": "stdout",
     "output_type": "stream",
     "text": [
      "文本: ['the', 'time', 'machine', 'by', 'h', 'g', 'wells']\n",
      "索引: [1, 19, 50, 40, 2183, 2184, 400]\n",
      "文本: ['twinkled', 'and', 'his', 'usually', 'pale', 'face', 'was', 'flushed', 'and', 'animated', 'the']\n",
      "索引: [2186, 3, 25, 1044, 362, 113, 7, 1421, 3, 1045, 1]\n"
     ]
    }
   ],
   "source": [
    "# 将每一个文本行转换成一个数字索引列表\n",
    "for i in [0, 10]:\n",
    "    print('文本:', tokens[i])\n",
    "    print('索引:', vocab[tokens[i]])"
   ]
  },
  {
   "cell_type": "markdown",
   "id": "52b175c8",
   "metadata": {},
   "source": [
    "整合所有功能"
   ]
  },
  {
   "cell_type": "code",
   "execution_count": 33,
   "id": "565425c0",
   "metadata": {},
   "outputs": [
    {
     "data": {
      "text/plain": [
       "(170580, 28)"
      ]
     },
     "execution_count": 33,
     "metadata": {},
     "output_type": "execute_result"
    }
   ],
   "source": [
    "def load_corpus_time_machine(max_tokens=-1):\n",
    "    \"\"\"\n",
    "    返回时光机器数据集的词元索引列表和词表, 此处使用字符实现文本词元化\n",
    "    \n",
    "    Parameter\n",
    "    -----------\n",
    "        max_tokens : 返回前max_tokens个词元索引\n",
    "    \"\"\"\n",
    "    lines = read_time_machine()\n",
    "    tokens = tokenize(lines, 'char')\n",
    "    vocab = Vocab(tokens)\n",
    "    # 因为时光机器数据集中的每个文本行不一定是一个句子或一个段落\n",
    "    # 所以将所有文本行展平到一个列表中\n",
    "    corpus = [vocab[token] for line in tokens for token in line]\n",
    "    if max_tokens > 0:\n",
    "        corpus = corpus[:max_tokens]\n",
    "    return corpus, vocab \n",
    "\n",
    "corpus, vocab = load_corpus_time_machine()\n",
    "len(corpus), len(vocab) # vocab中包括unk, 空格，26个字符"
   ]
  }
 ],
 "metadata": {
  "kernelspec": {
   "display_name": "d2l",
   "language": "python",
   "name": "python3"
  },
  "language_info": {
   "codemirror_mode": {
    "name": "ipython",
    "version": 3
   },
   "file_extension": ".py",
   "mimetype": "text/x-python",
   "name": "python",
   "nbconvert_exporter": "python",
   "pygments_lexer": "ipython3",
   "version": "3.9.21"
  }
 },
 "nbformat": 4,
 "nbformat_minor": 5
}
