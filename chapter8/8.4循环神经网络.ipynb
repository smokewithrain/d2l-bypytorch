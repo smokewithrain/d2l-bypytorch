{
 "cells": [
  {
   "cell_type": "markdown",
   "id": "12d9da75",
   "metadata": {},
   "source": [
    "有隐状态的循环神经网络<br>\n",
    "隐状态指有一系列隐藏变量捕获并保留了序列直到其当前时间步的历史信息，可以理解为当前时间步中神经网络的状态或记忆<br>\n",
    "而隐状态使用的定义与前一个时间步中使用的定义相同，因此称计算是循环的"
   ]
  },
  {
   "cell_type": "markdown",
   "id": "22527a44",
   "metadata": {},
   "source": [
    "隐状态中X<sub>t</sub>W<sub>xh</sub> + H<sub>t-1</sub>W<sub>hh</sub>的计算，\n",
    "相当于X<sub>t</sub>和H<sub>t-1</sub>的连接与W<sub>xh</sub>和W<sub>hh</sub>的连接的矩阵乘法"
   ]
  },
  {
   "cell_type": "code",
   "execution_count": 1,
   "id": "3ea0ca70",
   "metadata": {},
   "outputs": [],
   "source": [
    "import torch \n",
    "from d2l import torch as d2l "
   ]
  },
  {
   "cell_type": "code",
   "execution_count": 3,
   "id": "13fb9f3f",
   "metadata": {},
   "outputs": [
    {
     "data": {
      "text/plain": [
       "tensor([[ 3.4642,  0.6127,  5.6690, -1.1325],\n",
       "        [-3.6916,  0.3075, -7.4619,  1.2586],\n",
       "        [-4.0496,  0.4669, -4.3785,  2.4247]])"
      ]
     },
     "execution_count": 3,
     "metadata": {},
     "output_type": "execute_result"
    }
   ],
   "source": [
    "X, W_xh = torch.normal(0, 1, (3, 1)), torch.normal(0, 1, (1, 4))\n",
    "H, W_hh = torch.normal(0, 1, (3, 4)), torch.normal(0, 1, (4, 4))\n",
    "torch.matmul(X, W_xh) + torch.matmul(H, W_hh)"
   ]
  },
  {
   "cell_type": "code",
   "execution_count": 4,
   "id": "bcbe93ea",
   "metadata": {},
   "outputs": [
    {
     "data": {
      "text/plain": [
       "tensor([[ 3.4642,  0.6127,  5.6690, -1.1325],\n",
       "        [-3.6916,  0.3075, -7.4619,  1.2586],\n",
       "        [-4.0496,  0.4669, -4.3785,  2.4247]])"
      ]
     },
     "execution_count": 4,
     "metadata": {},
     "output_type": "execute_result"
    }
   ],
   "source": [
    "torch.matmul(torch.cat((X, H), 1), torch.cat((W_xh, W_hh), 0))"
   ]
  }
 ],
 "metadata": {
  "kernelspec": {
   "display_name": "d2l",
   "language": "python",
   "name": "python3"
  },
  "language_info": {
   "codemirror_mode": {
    "name": "ipython",
    "version": 3
   },
   "file_extension": ".py",
   "mimetype": "text/x-python",
   "name": "python",
   "nbconvert_exporter": "python",
   "pygments_lexer": "ipython3",
   "version": "3.9.21"
  }
 },
 "nbformat": 4,
 "nbformat_minor": 5
}
