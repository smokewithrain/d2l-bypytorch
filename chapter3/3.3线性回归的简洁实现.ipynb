{
 "cells": [
  {
   "cell_type": "code",
   "execution_count": 1,
   "id": "e8596150",
   "metadata": {},
   "outputs": [],
   "source": [
    "import numpy as np\n",
    "import torch\n",
    "from torch.utils import data\n",
    "from d2l import torch as d2l "
   ]
  },
  {
   "cell_type": "code",
   "execution_count": null,
   "id": "7afa83e8",
   "metadata": {},
   "outputs": [],
   "source": [
    "# 生成数据集\n",
    "true_w = torch.tensor([2, -3.4])\n",
    "true_b = 4.2\n",
    "features, labels = d2l.synthetic_data(true_w, true_b, 1000)"
   ]
  },
  {
   "cell_type": "markdown",
   "id": "6b30de49",
   "metadata": {},
   "source": [
    "读取数据集"
   ]
  },
  {
   "cell_type": "code",
   "execution_count": null,
   "id": "24f7294a",
   "metadata": {},
   "outputs": [],
   "source": [
    "def load_array(data_arrays, batch_size, is_train=True):\n",
    "    \"\"\"构造一个Pytorch数据迭代器\"\"\"\n",
    "    # *是解包运算符，将data_array这一可迭代对象(通常列表或元组)解包成多个独立的参数\n",
    "    dataset = data.TensorDataset(*data_arrays)\n",
    "    return data.DataLoader(dataset, batch_size, shuffle=is_train) # 如果是训练集，需要打乱"
   ]
  },
  {
   "cell_type": "code",
   "execution_count": 4,
   "id": "e2268179",
   "metadata": {},
   "outputs": [],
   "source": [
    "batch_size = 10\n",
    "data_iter = load_array((features, labels), batch_size)"
   ]
  },
  {
   "cell_type": "code",
   "execution_count": null,
   "id": "048f486a",
   "metadata": {},
   "outputs": [
    {
     "data": {
      "text/plain": [
       "[tensor([[-0.4285, -1.1982],\n",
       "         [-0.2016, -0.2909],\n",
       "         [-0.2131,  0.1792],\n",
       "         [ 1.2691,  0.7763],\n",
       "         [-0.7904,  0.9988],\n",
       "         [ 0.7530, -0.2462],\n",
       "         [ 0.0113, -0.3252],\n",
       "         [-1.1479,  0.1706],\n",
       "         [ 1.6251, -0.6387],\n",
       "         [-1.3447,  0.1676]]),\n",
       " tensor([[ 7.4228],\n",
       "         [ 4.7746],\n",
       "         [ 3.1689],\n",
       "         [ 4.1033],\n",
       "         [-0.7694],\n",
       "         [ 6.5334],\n",
       "         [ 5.3275],\n",
       "         [ 1.3350],\n",
       "         [ 9.6345],\n",
       "         [ 0.9475]])]"
      ]
     },
     "execution_count": 5,
     "metadata": {},
     "output_type": "execute_result"
    }
   ],
   "source": [
    "next(iter(data_iter))   # iter函数用于生成迭代器，迭代器是一个可以记住遍历位置的对象，从集合第一个元素开始访问，直到所有元素被访问完\n",
    "                        # 迭代器只能向前遍历，不能后退"
   ]
  },
  {
   "cell_type": "code",
   "execution_count": 7,
   "id": "526214e0",
   "metadata": {},
   "outputs": [],
   "source": [
    "# 定义模型\n",
    "from torch import nn\n",
    "\n",
    "net = nn.Sequential(nn.Linear(2, 1)) # 输入两个特征，输出一个结果"
   ]
  },
  {
   "cell_type": "code",
   "execution_count": 24,
   "id": "49ce7ac0",
   "metadata": {},
   "outputs": [
    {
     "data": {
      "text/plain": [
       "tensor([0.])"
      ]
     },
     "execution_count": 24,
     "metadata": {},
     "output_type": "execute_result"
    }
   ],
   "source": [
    "# 初始化模型参数\n",
    "# net[0] 选择网络中的第一层\n",
    "net[0].weight.data.normal_(0, 0.01)  # 权重初始化为服从正态分布，平均值0，标准差0.01\n",
    "net[0].bias.data.fill_(0)"
   ]
  },
  {
   "cell_type": "code",
   "execution_count": null,
   "id": "3ff85dcd",
   "metadata": {},
   "outputs": [],
   "source": [
    "# 定义损失函数\n",
    "loss = nn.MSELoss() # 均方误差, 返回样本集的损失的平均值\n",
    "# loss = nn.HuberLoss() # 胡伯尔损失"
   ]
  },
  {
   "cell_type": "code",
   "execution_count": 10,
   "id": "f1905c5a",
   "metadata": {},
   "outputs": [],
   "source": [
    "# 定义优化算法\n",
    "trainer = torch.optim.SGD(net.parameters(), lr=0.03) # 小批量随机梯度下降算法"
   ]
  },
  {
   "cell_type": "code",
   "execution_count": 26,
   "id": "fa7db75f",
   "metadata": {},
   "outputs": [
    {
     "name": "stdout",
     "output_type": "stream",
     "text": [
      "epoch 1, loss 2.220452\n",
      "epoch 2, loss 0.502706\n",
      "epoch 3, loss 0.002743\n"
     ]
    }
   ],
   "source": [
    "# 训练\n",
    "num_epochs = 3\n",
    "for epoch in range(num_epochs):\n",
    "    for X, y in data_iter:\n",
    "        l = loss(net(X), y)   # 标量\n",
    "        trainer.zero_grad()\n",
    "        l.backward()\n",
    "        trainer.step()  # 执行一次优化步骤，根据梯度更新模型参数\n",
    "\n",
    "    l = loss(net(features), labels)  # 一轮迭代后，此时模型损失值\n",
    "    print(f'epoch {epoch + 1}, loss {l:f}')"
   ]
  },
  {
   "cell_type": "code",
   "execution_count": 12,
   "id": "7cab6cb0",
   "metadata": {},
   "outputs": [
    {
     "name": "stdout",
     "output_type": "stream",
     "text": [
      "w的估计误差:  tensor([-0.0002,  0.0005])\n",
      "b的估计误差:  tensor([-0.0002])\n"
     ]
    }
   ],
   "source": [
    "w = net[0].weight.data\n",
    "print('w的估计误差: ', true_w - w.reshape(true_w.shape))\n",
    "b = net[0].bias.data\n",
    "print('b的估计误差: ', true_b - b)"
   ]
  }
 ],
 "metadata": {
  "kernelspec": {
   "display_name": "d2l",
   "language": "python",
   "name": "python3"
  },
  "language_info": {
   "codemirror_mode": {
    "name": "ipython",
    "version": 3
   },
   "file_extension": ".py",
   "mimetype": "text/x-python",
   "name": "python",
   "nbconvert_exporter": "python",
   "pygments_lexer": "ipython3",
   "version": "3.9.21"
  }
 },
 "nbformat": 4,
 "nbformat_minor": 5
}
