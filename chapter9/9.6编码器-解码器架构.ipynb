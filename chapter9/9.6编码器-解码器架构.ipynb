{
 "cells": [
  {
   "cell_type": "markdown",
   "id": "93cdca89",
   "metadata": {},
   "source": [
    "编码器-解码器架构可以将长度可变的序列作为输入和输出，因此适用于机器翻译等序列转换问题<br>\n",
    "编码器: 接收一个长度可变的序列作为输入，并将其转换为具有固定形状的编码状态<br>\n",
    "解码器: 将固定形状的编码状态映射到长度可变的序列<br>"
   ]
  },
  {
   "cell_type": "markdown",
   "id": "0cea3b0e",
   "metadata": {},
   "source": [
    "编码器"
   ]
  },
  {
   "cell_type": "code",
   "execution_count": 1,
   "id": "81df7fc1",
   "metadata": {},
   "outputs": [],
   "source": [
    "from torch import nn \n",
    "\n",
    "class Encoder(nn.Module):\n",
    "    \"\"\"编码器-解码器架构的基本编码器接口, 指定长度可变的序列X作为输入\"\"\"\n",
    "    def __init__(self, **kwargs):\n",
    "        super(Encoder, self).__init__(**kwargs)\n",
    "    \n",
    "    def forward(self, X, *args):\n",
    "        raise NotImplementedError"
   ]
  },
  {
   "cell_type": "markdown",
   "id": "b510b698",
   "metadata": {},
   "source": [
    "解码器"
   ]
  },
  {
   "cell_type": "code",
   "execution_count": null,
   "id": "c8bf87e9",
   "metadata": {},
   "outputs": [],
   "source": [
    "class Decoder(nn.Module):\n",
    "    \"\"\"编码器-解码器架构的基本解码器接口\"\"\"\n",
    "    def __init__(self, **kwargs):\n",
    "        super(Decoder, self).__init__(**kwargs)\n",
    "\n",
    "    def init_state(self, enc_outputs, *args):\n",
    "        \"\"\"将编码器的输入enc_outputs转换为编码后的状态\"\"\"\n",
    "        # NotImplementedError是用于标记未实现功能的标准做法, 明确告诉其他开发者这个方法应该由子类实现\n",
    "        raise NotImplementedError\n",
    "    \n",
    "    def forward(self, X, state):\n",
    "        raise NotImplementedError"
   ]
  },
  {
   "cell_type": "markdown",
   "id": "fb9dad45",
   "metadata": {},
   "source": [
    "合并编码器和解码器"
   ]
  },
  {
   "cell_type": "code",
   "execution_count": null,
   "id": "f93f65db",
   "metadata": {},
   "outputs": [],
   "source": [
    "class EncoderDecoder(nn.Module):\n",
    "    \"\"\"编码器-解码器架构的基类\"\"\"\n",
    "    def __init__(self, encoder, decoder, **kwargs):\n",
    "        super(EncoderDecoder, self).__init__(**kwargs)\n",
    "        self.encoder = encoder \n",
    "        self.decoder = decoder\n",
    "    \n",
    "    def forward(self, enc_X, dec_X, *args):\n",
    "        enc_outputs = self.encoder(enc_X, *args)\n",
    "        dec_state = self.decoder.init_state(enc_outputs, *args)\n",
    "        return self.decoder(dec_X, dec_state)"
   ]
  }
 ],
 "metadata": {
  "kernelspec": {
   "display_name": "d2l",
   "language": "python",
   "name": "python3"
  },
  "language_info": {
   "codemirror_mode": {
    "name": "ipython",
    "version": 3
   },
   "file_extension": ".py",
   "mimetype": "text/x-python",
   "name": "python",
   "nbconvert_exporter": "python",
   "pygments_lexer": "ipython3",
   "version": "3.9.21"
  }
 },
 "nbformat": 4,
 "nbformat_minor": 5
}
