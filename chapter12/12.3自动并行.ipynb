{
 "cells": [
  {
   "cell_type": "code",
   "execution_count": 2,
   "id": "1c9a16a0",
   "metadata": {},
   "outputs": [],
   "source": [
    "import torch\n",
    "from d2l import torch as d2l"
   ]
  },
  {
   "cell_type": "markdown",
   "id": "05a82b97",
   "metadata": {},
   "source": [
    "基于GPU的并行运算 -- 云服务器(需要2个GPU)"
   ]
  },
  {
   "cell_type": "code",
   "execution_count": 8,
   "id": "dcabee8c",
   "metadata": {},
   "outputs": [
    {
     "ename": "IndexError",
     "evalue": "list index out of range",
     "output_type": "error",
     "traceback": [
      "\u001b[1;31m---------------------------------------------------------------------------\u001b[0m",
      "\u001b[1;31mIndexError\u001b[0m                                Traceback (most recent call last)",
      "Cell \u001b[1;32mIn[8], line 6\u001b[0m\n\u001b[0;32m      3\u001b[0m     \u001b[38;5;28;01mreturn\u001b[39;00m [x\u001b[38;5;241m.\u001b[39mmm(x) \u001b[38;5;28;01mfor\u001b[39;00m _ \u001b[38;5;129;01min\u001b[39;00m \u001b[38;5;28mrange\u001b[39m(\u001b[38;5;241m50\u001b[39m)]\n\u001b[0;32m      5\u001b[0m x_gpu1 \u001b[38;5;241m=\u001b[39m torch\u001b[38;5;241m.\u001b[39mrand(size\u001b[38;5;241m=\u001b[39m(\u001b[38;5;241m4000\u001b[39m, \u001b[38;5;241m4000\u001b[39m), device\u001b[38;5;241m=\u001b[39mdevices[\u001b[38;5;241m0\u001b[39m])\n\u001b[1;32m----> 6\u001b[0m x_gpu2 \u001b[38;5;241m=\u001b[39m torch\u001b[38;5;241m.\u001b[39mrand(size\u001b[38;5;241m=\u001b[39m(\u001b[38;5;241m4000\u001b[39m, \u001b[38;5;241m4000\u001b[39m), device\u001b[38;5;241m=\u001b[39m\u001b[43mdevices\u001b[49m\u001b[43m[\u001b[49m\u001b[38;5;241;43m1\u001b[39;49m\u001b[43m]\u001b[49m)\n",
      "\u001b[1;31mIndexError\u001b[0m: list index out of range"
     ]
    }
   ],
   "source": [
    "devices = d2l.try_all_gpus()\n",
    "def run(x):\n",
    "    return [x.mm(x) for _ in range(50)]\n",
    "\n",
    "x_gpu1 = torch.rand(size=(4000, 4000), device=devices[0])\n",
    "x_gpu2 = torch.rand(size=(4000, 4000), device=devices[1])"
   ]
  },
  {
   "cell_type": "code",
   "execution_count": null,
   "id": "40ab53ff",
   "metadata": {},
   "outputs": [],
   "source": [
    "run(x_gpu1)    # 预热设备，对设备执行一次传递，确保缓存的作用不影响最终结果\n",
    "run(x_gpu2)\n",
    "torch.cuda.synchronize(devices[0])\n",
    "torch.cuda.synchronize(devices[1])\n",
    "\n",
    "with d2l.Benchmark('GPU1 time'):\n",
    "    run(x_gpu1)\n",
    "    torch.cuda.synchronize(devices[0])  # devices[0] 表示是该设备需要同步\n",
    "\n",
    "with d2l.Benchmark('GPU2 time'):\n",
    "    run(x_gpu2)\n",
    "    torch.cuda.synchronize(devices[1])  "
   ]
  },
  {
   "cell_type": "code",
   "execution_count": null,
   "id": "4cdfbc28",
   "metadata": {},
   "outputs": [],
   "source": [
    "with d2l.Benchmark('GPU1 & GPU2'):\n",
    "    run(x_gpu1)\n",
    "    run(x_gpu2)\n",
    "    torch.cuda.synchronize()"
   ]
  },
  {
   "cell_type": "markdown",
   "id": "247c6b1d",
   "metadata": {},
   "source": [
    "并行运算与通信"
   ]
  },
  {
   "cell_type": "code",
   "execution_count": 3,
   "id": "b1769897",
   "metadata": {},
   "outputs": [],
   "source": [
    "def try_xpu(i=0):\n",
    "    \"\"\"如果存在,则返回gpu(i),否则返回cpu()\"\"\"\n",
    "    if torch.xpu.device_count() >= i+1:\n",
    "        return torch.device(f'xpu:{i}')\n",
    "    return torch.device('cpu')\n",
    "\n",
    "device = try_xpu()\n",
    "def run(x):\n",
    "    return [x.mm(x) for _ in range(50)]\n",
    "\n",
    "x_xpu1 = torch.rand(size=(4000, 4000), device=device)"
   ]
  },
  {
   "cell_type": "code",
   "execution_count": 6,
   "id": "0d88566d",
   "metadata": {},
   "outputs": [
    {
     "name": "stdout",
     "output_type": "stream",
     "text": [
      "在GPU1上运行: 1.9619 sec\n",
      "复制到CPU: 1.4300 sec\n"
     ]
    }
   ],
   "source": [
    "# 许多时候，需要在不同设备之间移动数据，例如执行分布式优化时，需要移动数据来聚合多个加速卡上的梯度\n",
    "# 通过在GPU上计算，然后将结果复制会CPU来模拟这个过程\n",
    "def copy_to_cpu(x, non_blocking=False):\n",
    "    return [y.to('cpu', non_blocking=non_blocking) for y in x]\n",
    "\n",
    "with d2l.Benchmark('在GPU1上运行'):\n",
    "    y = run(x_xpu1)\n",
    "    torch.xpu.synchronize()\n",
    "\n",
    "with d2l.Benchmark('复制到CPU'):\n",
    "    y_cpu = copy_to_cpu(y)\n",
    "    torch.xpu.synchronize()"
   ]
  },
  {
   "cell_type": "code",
   "execution_count": null,
   "id": "b93cd173",
   "metadata": {},
   "outputs": [
    {
     "name": "stdout",
     "output_type": "stream",
     "text": [
      "在GPU1上运行并复制到CPU: 2.4415 sec\n"
     ]
    }
   ],
   "source": [
    "# 系统可以在计算y[i]的同时复制y[i-1], 以减少总运行时间\n",
    "with d2l.Benchmark('在GPU1上运行并复制到CPU'):\n",
    "    y = run(x_xpu1)\n",
    "    y_cpu = copy_to_cpu(y, True)\n",
    "    torch.xpu.synchronize()"
   ]
  }
 ],
 "metadata": {
  "kernelspec": {
   "display_name": "d2l",
   "language": "python",
   "name": "python3"
  },
  "language_info": {
   "codemirror_mode": {
    "name": "ipython",
    "version": 3
   },
   "file_extension": ".py",
   "mimetype": "text/x-python",
   "name": "python",
   "nbconvert_exporter": "python",
   "pygments_lexer": "ipython3",
   "version": "3.9.21"
  }
 },
 "nbformat": 4,
 "nbformat_minor": 5
}
