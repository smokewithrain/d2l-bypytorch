{
 "cells": [
  {
   "cell_type": "markdown",
   "id": "74e18698",
   "metadata": {},
   "source": [
    "编译器和解释器"
   ]
  },
  {
   "cell_type": "code",
   "execution_count": 1,
   "id": "f31529aa",
   "metadata": {},
   "outputs": [
    {
     "name": "stdout",
     "output_type": "stream",
     "text": [
      "10\n"
     ]
    }
   ],
   "source": [
    "# 命令式程序\n",
    "def add(a, b):\n",
    "    return a + b\n",
    "\n",
    "def fancy_func(a, b, c, d):\n",
    "    e = add(a, b)\n",
    "    f = add(c, d)\n",
    "    g = add(e, f)\n",
    "    return g \n",
    "\n",
    "print(fancy_func(1, 2, 3, 4))"
   ]
  },
  {
   "cell_type": "markdown",
   "id": "f250ed07",
   "metadata": {},
   "source": [
    "符号式编程<br>\n",
    "python作为解释型语言，按顺序执行代码，但效率可能不高<br>\n",
    "符号式编程，是代码通常只在完全定义了过程之后才执行计算，可以利用编译器对不再需要的变量释放内存，或者将代码转化为一个完全等价的代码片段"
   ]
  },
  {
   "cell_type": "code",
   "execution_count": 2,
   "id": "28afffac",
   "metadata": {},
   "outputs": [
    {
     "name": "stdout",
     "output_type": "stream",
     "text": [
      "\n",
      "def add(a, b):\n",
      "    return a + b\n",
      "\n",
      "def fancy_func(a, b, c, d):\n",
      "    e = add(a, b)\n",
      "    f = add(c, d)\n",
      "    g = add(e, f)\n",
      "    return g \n",
      "print(fancy_func(1, 2, 3, 4))\n",
      "10\n"
     ]
    }
   ],
   "source": [
    "def add_():\n",
    "    return \"\"\"\n",
    "def add(a, b):\n",
    "    return a + b\n",
    "\"\"\"\n",
    "\n",
    "def fancy_func_():\n",
    "    return \"\"\"\n",
    "def fancy_func(a, b, c, d):\n",
    "    e = add(a, b)\n",
    "    f = add(c, d)\n",
    "    g = add(e, f)\n",
    "    return g \n",
    "\"\"\"\n",
    "\n",
    "def evoke_():\n",
    "    return add_() + fancy_func_() + 'print(fancy_func(1, 2, 3, 4))'\n",
    "\n",
    "prog = evoke_()\n",
    "print(prog)\n",
    "y = compile(prog, '', 'exec')  # 将字符串prog编译为Python字节码对象, 'exec'表示执行多行代码\n",
    "exec(y)                        # 执行编译后的字节码，输出结果10"
   ]
  },
  {
   "cell_type": "markdown",
   "id": "22f3e7ad",
   "metadata": {},
   "source": [
    "Sequential的混合式编程"
   ]
  },
  {
   "cell_type": "code",
   "execution_count": 3,
   "id": "40073abb",
   "metadata": {},
   "outputs": [
    {
     "data": {
      "text/plain": [
       "tensor([[ 0.0861, -0.0049]], grad_fn=<AddmmBackward0>)"
      ]
     },
     "execution_count": 3,
     "metadata": {},
     "output_type": "execute_result"
    }
   ],
   "source": [
    "import torch\n",
    "from torch import nn \n",
    "from d2l import torch as d2l \n",
    "\n",
    "# 生产网络的工厂模式\n",
    "def get_net():\n",
    "    net = nn.Sequential(\n",
    "            nn.Linear(512, 256), \n",
    "            nn.ReLU(),\n",
    "            nn.Linear(256, 128),\n",
    "            nn.ReLU(),\n",
    "            nn.Linear(128, 2))\n",
    "    return net\n",
    "\n",
    "x = torch.randn(size=(1, 512))\n",
    "net = get_net()\n",
    "net(x)"
   ]
  },
  {
   "cell_type": "markdown",
   "id": "71298588",
   "metadata": {},
   "source": [
    "PyTorch基于命令式编程并且使用动态计算图，TorchScript允许用户使用纯命令式编程进行开发和调试，同时能够将大多数程序转换为符号式程序，以便在需要产品级计算性能和部署时使用"
   ]
  },
  {
   "cell_type": "code",
   "execution_count": 5,
   "id": "e3e86d48",
   "metadata": {},
   "outputs": [
    {
     "data": {
      "text/plain": [
       "tensor([[ 0.0861, -0.0049]], grad_fn=<AddmmBackward0>)"
      ]
     },
     "execution_count": 5,
     "metadata": {},
     "output_type": "execute_result"
    }
   ],
   "source": [
    "net = torch.jit.script(net)\n",
    "net(x)"
   ]
  },
  {
   "cell_type": "markdown",
   "id": "e59a8e1d",
   "metadata": {},
   "source": [
    "通过混合式编程加速"
   ]
  },
  {
   "cell_type": "code",
   "execution_count": 6,
   "id": "f46d90c2",
   "metadata": {},
   "outputs": [],
   "source": [
    "# 上下文管理器，通过with语句使用\n",
    "# 进入上下文: 执行__enter__方法，返回资源对象(如文件句柄)\n",
    "# 退出上下文: 无论代码块是否抛出异常，都会执行__exit__方法，释放资源(如关闭文件)\n",
    "class Benchmark:\n",
    "    \"\"\"用于度量运行时间\"\"\"\n",
    "    def __init__(self, description='Done'):\n",
    "        self.description = description\n",
    "    \n",
    "    def __enter__(self):\n",
    "        self.timer = d2l.Timer()\n",
    "        return self\n",
    "\n",
    "    def __exit__(self, *args):\n",
    "        print(f'{self.description}: {self.timer.stop():.4f} sec')        "
   ]
  },
  {
   "cell_type": "code",
   "execution_count": 7,
   "id": "44f84242",
   "metadata": {},
   "outputs": [
    {
     "name": "stdout",
     "output_type": "stream",
     "text": [
      "无torchscript: 0.3214 sec\n",
      "有torchscript: 0.3109 sec\n"
     ]
    }
   ],
   "source": [
    "net = get_net()\n",
    "with Benchmark('无torchscript'):\n",
    "    for i in range(1000): net(x)\n",
    "\n",
    "net = torch.jit.script(net)\n",
    "with Benchmark('有torchscript'):\n",
    "    for i in range(1000): net(x)"
   ]
  },
  {
   "cell_type": "markdown",
   "id": "a6bcbee5",
   "metadata": {},
   "source": [
    "序列化"
   ]
  },
  {
   "cell_type": "code",
   "execution_count": 9,
   "id": "7c775f87",
   "metadata": {},
   "outputs": [],
   "source": [
    "net.save('my_mlp')"
   ]
  }
 ],
 "metadata": {
  "kernelspec": {
   "display_name": "d2l",
   "language": "python",
   "name": "python3"
  },
  "language_info": {
   "codemirror_mode": {
    "name": "ipython",
    "version": 3
   },
   "file_extension": ".py",
   "mimetype": "text/x-python",
   "name": "python",
   "nbconvert_exporter": "python",
   "pygments_lexer": "ipython3",
   "version": "3.9.21"
  }
 },
 "nbformat": 4,
 "nbformat_minor": 5
}
